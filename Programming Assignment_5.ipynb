{
 "cells": [
  {
   "cell_type": "markdown",
   "id": "4ac9602a",
   "metadata": {},
   "source": [
    "## Python Basic Programming Assignment - 5\n",
    "--------------\n"
   ]
  },
  {
   "cell_type": "markdown",
   "id": "fdaeee06",
   "metadata": {},
   "source": [
    "### 1. Write a Python Program to Find LCM?"
   ]
  },
  {
   "cell_type": "code",
   "execution_count": 1,
   "id": "0676be45",
   "metadata": {},
   "outputs": [
    {
     "name": "stdout",
     "output_type": "stream",
     "text": [
      "Enter first number: 25\n",
      "Enter second number: 20\n",
      "The LCM of 25 and 20 is 100\n"
     ]
    }
   ],
   "source": [
    "import math\n",
    "\n",
    "# input two numbers\n",
    "num1 = int(input(\"Enter first number: \"))\n",
    "num2 = int(input(\"Enter second number: \"))\n",
    "\n",
    "# find the LCM using math.gcd() function\n",
    "lcm = (num1 * num2) // math.gcd(num1, num2)\n",
    "\n",
    "# display the result\n",
    "print(\"The LCM of\", num1, \"and\", num2, \"is\", lcm)\n"
   ]
  },
  {
   "cell_type": "markdown",
   "id": "2f459cdf",
   "metadata": {},
   "source": [
    "### 2. Write a Python Program to Find HCF?"
   ]
  },
  {
   "cell_type": "code",
   "execution_count": 2,
   "id": "7620aa67",
   "metadata": {},
   "outputs": [
    {
     "name": "stdout",
     "output_type": "stream",
     "text": [
      "Enter first number: 50\n",
      "Enter second number: 60\n",
      "The HCF of 50 and 60 is 10\n"
     ]
    }
   ],
   "source": [
    "import math\n",
    "\n",
    "# input two numbers\n",
    "num1 = int(input(\"Enter first number: \"))\n",
    "num2 = int(input(\"Enter second number: \"))\n",
    "\n",
    "# find the HCF using math.gcd() function\n",
    "hcf = math.gcd(num1, num2)\n",
    "\n",
    "# display the result\n",
    "print(\"The HCF of\", num1, \"and\", num2, \"is\", hcf)\n"
   ]
  },
  {
   "cell_type": "markdown",
   "id": "d2c29370",
   "metadata": {},
   "source": [
    "### 3. Write a Python Program to Convert Decimal to Binary, Octal and Hexadecimal?"
   ]
  },
  {
   "cell_type": "code",
   "execution_count": 7,
   "id": "aa8bb9d3",
   "metadata": {},
   "outputs": [
    {
     "name": "stdout",
     "output_type": "stream",
     "text": [
      "Enter a decimal number: 30\n",
      "Binary equivalent of 30 is 0b11110\n",
      "Octal equivalent of 30 is 0o36\n",
      "Hexadecimal equivalent of 30 is 0x1e\n"
     ]
    }
   ],
   "source": [
    "# input a decimal number\n",
    "dec_num = int(input(\"Enter a decimal number: \"))\n",
    "\n",
    "# convert to binary\n",
    "bin_num = bin(dec_num)\n",
    "print(\"Binary equivalent of\", dec_num, \"is\", bin_num)\n",
    "\n",
    "# convert to octal\n",
    "oct_num = oct(dec_num)\n",
    "print(\"Octal equivalent of\", dec_num, \"is\", oct_num)\n",
    "\n",
    "# convert to hexadecimal\n",
    "hex_num = hex(dec_num)\n",
    "print(\"Hexadecimal equivalent of\", dec_num, \"is\", hex_num)\n"
   ]
  },
  {
   "cell_type": "markdown",
   "id": "2a16c5fd",
   "metadata": {},
   "source": [
    "### 4. Write a Python Program To Find ASCII value of a character?"
   ]
  },
  {
   "cell_type": "code",
   "execution_count": 8,
   "id": "62da1edb",
   "metadata": {},
   "outputs": [
    {
     "name": "stdout",
     "output_type": "stream",
     "text": [
      "The ASCII value of P is 80\n"
     ]
    }
   ],
   "source": [
    "string = 'Python'\n",
    "ascii_val = ord(string[0])\n",
    "print(\"The ASCII value of\", string[0], \"is\", ascii_val)\n"
   ]
  },
  {
   "cell_type": "markdown",
   "id": "226778a0",
   "metadata": {},
   "source": [
    "### 5. Write a Python Program to Make a Simple Calculator with 4 basic mathematical operations?"
   ]
  },
  {
   "cell_type": "code",
   "execution_count": 9,
   "id": "8b28a0b3",
   "metadata": {},
   "outputs": [
    {
     "name": "stdout",
     "output_type": "stream",
     "text": [
      "Select operation:\n",
      "1. Add\n",
      "2. Subtract\n",
      "3. Multiply\n",
      "4. Divide\n",
      "5. Exit\n",
      "Enter choice(1/2/3/4/5):3\n",
      "Enter first number: 35\n",
      "Enter second number: 47\n",
      "35.0 * 47.0 = 1645.0\n",
      "Select operation:\n",
      "1. Add\n",
      "2. Subtract\n",
      "3. Multiply\n",
      "4. Divide\n",
      "5. Exit\n",
      "Enter choice(1/2/3/4/5):1\n",
      "Enter first number: 54321\n",
      "Enter second number: 12345\n",
      "54321.0 + 12345.0 = 66666.0\n",
      "Select operation:\n",
      "1. Add\n",
      "2. Subtract\n",
      "3. Multiply\n",
      "4. Divide\n",
      "5. Exit\n",
      "Enter choice(1/2/3/4/5):5\n"
     ]
    }
   ],
   "source": [
    "def calculator():\n",
    "    while True:\n",
    "        print(\"Select operation:\")\n",
    "        print(\"1. Add\")\n",
    "        print(\"2. Subtract\")\n",
    "        print(\"3. Multiply\")\n",
    "        print(\"4. Divide\")\n",
    "        print(\"5. Exit\")\n",
    "        choice = int(input(\"Enter choice(1/2/3/4/5):\"))\n",
    "\n",
    "        if choice in [1, 2, 3, 4]:\n",
    "            num1 = float(input(\"Enter first number: \"))\n",
    "            num2 = float(input(\"Enter second number: \"))\n",
    "\n",
    "            if choice == 1:\n",
    "                result = num1 + num2\n",
    "                print(num1, \"+\", num2, \"=\", result)\n",
    "            elif choice == 2:\n",
    "                result = num1 - num2\n",
    "                print(num1, \"-\", num2, \"=\", result)\n",
    "            elif choice == 3:\n",
    "                result = num1 * num2\n",
    "                print(num1, \"*\", num2, \"=\", result)\n",
    "            elif choice == 4:\n",
    "                result = num1 / num2\n",
    "                print(num1, \"/\", num2, \"=\", result)\n",
    "        elif choice == 5:\n",
    "            break\n",
    "        else:\n",
    "            print(\"Invalid input\")\n",
    "\n",
    "calculator()\n"
   ]
  },
  {
   "cell_type": "code",
   "execution_count": null,
   "id": "a2266edb",
   "metadata": {},
   "outputs": [],
   "source": []
  }
 ],
 "metadata": {
  "kernelspec": {
   "display_name": "Python 3 (ipykernel)",
   "language": "python",
   "name": "python3"
  },
  "language_info": {
   "codemirror_mode": {
    "name": "ipython",
    "version": 3
   },
   "file_extension": ".py",
   "mimetype": "text/x-python",
   "name": "python",
   "nbconvert_exporter": "python",
   "pygments_lexer": "ipython3",
   "version": "3.9.13"
  }
 },
 "nbformat": 4,
 "nbformat_minor": 5
}
